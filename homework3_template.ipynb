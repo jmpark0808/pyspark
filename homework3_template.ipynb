{
 "cells": [
  {
   "cell_type": "markdown",
   "id": "f6a3dccc",
   "metadata": {},
   "source": [
    "# Homework 3 Instructions\n",
    "The goal for this homework is for you to interact with python libraries that facilitate data manipulation and analysis. This homework closely follows the 2023/06/05 [pyspark tutorial](https://github.com/jmpark0808/pyspark/blob/hmw3/pyspark.ipynb).\n",
    "\n",
    "You will be analyzing a 500,010 tweet dataset (10 of which you will make yourself in **Part 1**). You'll be asked to load the data with pyspark, answer questions about the dataset and then finally visualizing connections between your tweets and mentions based on a hashtag.\n",
    "\n",
    "## Submission Setup\n",
    "1. Rename this file as \"\\<student_id\\>_\\<username\\>_H3\"\n",
    "2. Preview this notebook as an HTML file, i.e., File -> Print Preview\n",
    "3. `Cmd + P` to get the printing prompt but save the file as **PDF**\n",
    "4. Submit this renamed file to CrowdMark\n",
    "    - ***Make sure that the submission file includes the cell outputs***\n",
    "\n",
    "\n",
    "## Tips\n",
    "- Refer heavily to the 2023/06/05 tutorial code since this homework is a slight derivation of it\n",
    "- Refer to documentation for useful methods (e.g., [pyspark.sql.DataFrame](https://spark.apache.org/docs/3.1.1/api/python/reference/api/pyspark.sql.DataFrame.html)) and we have provided some useful links in this notebook\n",
    "- We are evaluating the cell outputs\n",
    "- Ask questions in piazza and contribute to other peoples posts (anonymously if you are too shy)\n"
   ]
  },
  {
   "cell_type": "markdown",
   "id": "643c5e94",
   "metadata": {},
   "source": [
    "# Part 0: Setup\n",
    "\n",
    "### Install Required Packages\n",
    "`pip install -r requirements.txt`\n",
    "\n",
    "Or I suggest installing these in a python virtual environment\n",
    "```bash\n",
    "mkdir envs\n",
    "cd envs\n",
    "virtualenv msci436 -p python3\n",
    "source envs/msci436/bin/activate # activate virtual env\n",
    "pip install -r requirements.txt\n",
    "```\n",
    "\n",
    "### Check if you have Java\n",
    "#### Linux\n",
    "`!java -version`\n",
    "\n",
    "If you do not have java installed, run\n",
    "```\n",
    "sudo apt-get update\n",
    "sudo apt-get install openjdk-8-jdk\n",
    "```\n",
    "\n",
    "#### macOS\n",
    "[Here](https://mkyong.com/java/how-to-install-java-on-mac-osx/#homebrew-install-latest-java-on-macos) is the brief guide but note that if `/usr/local/Cellar` doesn't exist for you, follow the bellow steps\n",
    "\n",
    "1. Install java `brew install java`\n",
    "2. View java symbolic link instructions `brew info java`\n",
    "3. Execute the command under \"==> Caveats\", (for me it's `sudo ln -sfn /opt/homebrew/opt/openjdk/libexec/openjdk.jdk /Library/Java/JavaVirtualMachines/openjdk.jdk`)\n",
    "4. Validate that everything works with `java -version`"
   ]
  },
  {
   "cell_type": "markdown",
   "id": "bbf74295",
   "metadata": {},
   "source": [
    "# Part 1: Data Creation\n",
    "In this part you will add 10 more tweets to [hmw3_tweets.zip](https://github.com/jmpark0808/pyspark/blob/hmw3/hmw3_tweets.zip) (download and unzip it) which containes the first 500,000 tweets from the [Sentiment140](https://www.kaggle.com/datasets/kazanova/sentiment140) dataset. \n",
    "\n",
    "1. Use your student number as the 'id' (second column) and your username as the 'user' (fifth column)\n",
    "2. Create tweets (10 total) mentioning (1 mention per tweet):\n",
    "    - <span style=\"color:blue\">{'Hollywood_Trey', 'MiDesfileNegro', 'TessMorris', 'amazingphoebe', 'kasey79', 'lost_dog', 'nessie111', 'nuttychris', 'sebby_peek', 'tweetpet'}\n",
    "    - Example; \"@Hollywood_Trey We should definitely nominate Eddie and Kimathi for the TA awards\"\n",
    "3. Include hashtag (defined below) in all your tweets \n",
    "\n",
    "This will be your personal data csv for this homework"
   ]
  },
  {
   "cell_type": "code",
   "execution_count": null,
   "id": "ff42795d",
   "metadata": {},
   "outputs": [],
   "source": [
    "HASHTAG = \"#fail\""
   ]
  },
  {
   "cell_type": "markdown",
   "id": "37d4b1e8",
   "metadata": {},
   "source": [
    "# Part 2: Load CSV with pyspark\n",
    "Uncomment lines 13-14 if `sc.take(5)` outputs are double quoted"
   ]
  },
  {
   "cell_type": "code",
   "execution_count": null,
   "id": "ce4a1659",
   "metadata": {
    "scrolled": true
   },
   "outputs": [],
   "source": [
    "from pyspark.sql import SparkSession\n",
    "\n",
    "spark = SparkSession.builder.appName('SparkExample.com').getOrCreate()\n",
    "\n",
    "# We load the csv into an RDD (Resilient Distributed Dataset) named tweetsCSV\n",
    "sc = spark.sparkContext.textFile(\"hmw3_tweets.csv\")\n",
    "def process_string(s):\n",
    "    split = s.split(',')\n",
    "    if len(split) != 6:\n",
    "        split[5] = ''.join(split[5:]).strip('\"')\n",
    "        split = split[:6]\n",
    "    \n",
    "#     for i in range(6):\n",
    "#         split[i] = split[i][1:-1]\n",
    "    return split\n",
    "sc = sc.map(lambda s: process_string(s))\n",
    "# \"take\" the first 5 items\n",
    "sc.take(5)"
   ]
  },
  {
   "cell_type": "markdown",
   "id": "fa5a21f2",
   "metadata": {},
   "source": [
    "# Part 3: Create a pyspark DataFrame"
   ]
  },
  {
   "cell_type": "code",
   "execution_count": null,
   "id": "8b97313a",
   "metadata": {},
   "outputs": [],
   "source": [
    "# Define data columns\n",
    "deptColumns = [\"target\",\"ids\", \"date\", \"flag\", \"user\", \"text\"]\n",
    "# TODO: Create data frame\n",
    "tweetsDF = ..."
   ]
  },
  {
   "cell_type": "code",
   "execution_count": null,
   "id": "325c021b",
   "metadata": {},
   "outputs": [],
   "source": [
    "# TODO: Visualize the DataFrame schema `printSchema()`\n"
   ]
  },
  {
   "cell_type": "code",
   "execution_count": null,
   "id": "8d833635",
   "metadata": {
    "scrolled": true
   },
   "outputs": [],
   "source": [
    "# TODO: Show the first 5 rows `show(...)`\n"
   ]
  },
  {
   "cell_type": "code",
   "execution_count": null,
   "id": "3da84b39",
   "metadata": {},
   "outputs": [],
   "source": [
    "# TODO: Print the total number of rows\n"
   ]
  },
  {
   "cell_type": "markdown",
   "id": "d3c83b33",
   "metadata": {},
   "source": [
    "# Part 4: Query/Explore your Data\n",
    "## Part 4.1: Using `pyspark.sql.DataFrame.where`"
   ]
  },
  {
   "cell_type": "code",
   "execution_count": null,
   "id": "f826d4c6",
   "metadata": {},
   "outputs": [],
   "source": [
    "# TODO: Print out all the tweets (tweetsDF.text) made by you (tweetsDF.user)\n"
   ]
  },
  {
   "cell_type": "code",
   "execution_count": null,
   "id": "88566ef1",
   "metadata": {},
   "outputs": [],
   "source": [
    "# TODO: Print the combined number of tweets made by 'lost_dog' and 'nuttychris'\n"
   ]
  },
  {
   "cell_type": "code",
   "execution_count": null,
   "id": "50beba6b",
   "metadata": {},
   "outputs": [],
   "source": [
    "from pyspark.sql.functions import col # might be useful\n",
    "\n",
    "# TODO: Print the number of tweets that mention user 'amazingphoebe'\n"
   ]
  },
  {
   "cell_type": "code",
   "execution_count": null,
   "id": "3e69c46a",
   "metadata": {},
   "outputs": [],
   "source": [
    "# TODO: Print the 5 most active twitter users\n"
   ]
  },
  {
   "cell_type": "markdown",
   "id": "4cf5e805",
   "metadata": {},
   "source": [
    "## Part 4.2: Using `spark.sql(...)`"
   ]
  },
  {
   "cell_type": "code",
   "execution_count": null,
   "id": "7d658dc4",
   "metadata": {},
   "outputs": [],
   "source": [
    "tweetsDF.createOrReplaceTempView(\"tweets\") \n",
    "# register a table called 'tweets' for querying `createOrReplaceTempView(...)`"
   ]
  },
  {
   "cell_type": "code",
   "execution_count": null,
   "id": "1473d342",
   "metadata": {},
   "outputs": [],
   "source": [
    "# TODO: Select the first 5 entries from the 'user' column\n",
    "# Tutorial code\n"
   ]
  },
  {
   "cell_type": "code",
   "execution_count": null,
   "id": "ea6d9d5e",
   "metadata": {},
   "outputs": [],
   "source": [
    "# TODO: Get the number of distinct/unique users\n",
    "# https://www.w3schools.com/sql/sql_distinct.asp\n"
   ]
  },
  {
   "cell_type": "code",
   "execution_count": null,
   "id": "f31353b0",
   "metadata": {},
   "outputs": [],
   "source": [
    "# TODO: Show first 10 tweets that mention user 'amazingphoebe'\n",
    "# https://www.w3schools.com/sql/trysql.asp?filename=trysql_op_like\n"
   ]
  },
  {
   "cell_type": "markdown",
   "id": "dba88217",
   "metadata": {},
   "source": [
    "# Part 5: Hashtag Statistics"
   ]
  },
  {
   "cell_type": "code",
   "execution_count": null,
   "id": "086ced25",
   "metadata": {},
   "outputs": [],
   "source": [
    "hashTags = sc.flatMap(lambda xs: [x.split(' ') for x in xs]).flatMap(lambda x: x).filter(lambda w: w.startswith(\"#\"))\n",
    "\n",
    "# Print the total number of hashtags found in the dataset\n",
    "hashTags.count()"
   ]
  },
  {
   "cell_type": "code",
   "execution_count": null,
   "id": "3efaff97",
   "metadata": {
    "scrolled": true
   },
   "outputs": [],
   "source": [
    "# TODO: Count unique hashtags and sort them in descending order of count\n",
    "countedHashTags = ...\n",
    "\n",
    "# Print the top 10 hashtags\n",
    "countedHashTags.take(10)"
   ]
  },
  {
   "cell_type": "markdown",
   "id": "2d7ab15b",
   "metadata": {},
   "source": [
    "# Part 6: Create A Mentions Column\n",
    "In this section you will parse the tweet text for mentions (e.g. @tweetpet) and place them in a separate data column"
   ]
  },
  {
   "cell_type": "markdown",
   "id": "e55ee6b2",
   "metadata": {},
   "source": [
    "## Part 6.1: Create a Pandas DataFrame and add Mentions Column"
   ]
  },
  {
   "cell_type": "code",
   "execution_count": null,
   "id": "f1220af7",
   "metadata": {},
   "outputs": [],
   "source": [
    "# TODO: Convert to a pandas dataframe `toPandas()`\n",
    "tweets_PDF = ...\n",
    "\n",
    "# Visualize first 5 rows\n",
    "tweets_PDF.head(5)"
   ]
  },
  {
   "cell_type": "code",
   "execution_count": null,
   "id": "12b8e8bd",
   "metadata": {
    "scrolled": true
   },
   "outputs": [],
   "source": [
    "# TODO: Create a column which lists the mentions present for each tweet \n",
    "# Tutorial code\n",
    "\n",
    "def ...\n",
    "\n",
    "# Visualize the first 5 rows of this new dataset (should include 'mentioned' column)\n",
    "tweets_PDF.head(5)"
   ]
  },
  {
   "cell_type": "markdown",
   "id": "37701e51",
   "metadata": {},
   "source": [
    "## Part 6.2: Filter out tweets that don't include `HASHTAGS`\n",
    "Use [pandas.DataFrame.loc](https://pandas.pydata.org/docs/reference/api/pandas.DataFrame.loc.html) method to filter pandas dataframe (e.g.,`new_pdf = old_pdf.loc[(old_pdf['user']==\"Karol\")]`)\n",
    "\n",
    "Note that you will need to find out how to search if a column (e.g., tweets_PDF['text']) contains a `HASHTAG`. Refer to [this](https://stackoverflow.com/questions/11350770/filter-pandas-dataframe-by-substring-criteria) stack overflow link\n",
    "\n",
    "** Search for `HASHTAG + \" \"` adding trailing space to only search for whole words"
   ]
  },
  {
   "cell_type": "code",
   "execution_count": null,
   "id": "b9439b1e",
   "metadata": {},
   "outputs": [],
   "source": [
    "# TODO: Only store tweets with HASHTAG\n",
    "tweets_PDF_filtered = ...\n",
    "\n",
    "# Print the number of tweets containting the hashtag\n",
    "print(tweets_PDF_filtered.count())\n",
    "\n",
    "# Print the first couple tweets\n",
    "import pandas as pd\n",
    "pd.set_option('display.max_colwidth', None)\n",
    "tweets_PDF_filtered.head(5)"
   ]
  },
  {
   "cell_type": "markdown",
   "id": "575d0fb6",
   "metadata": {},
   "source": [
    "# Part 7: Graph Nodes\n",
    "## Part 7.1: Create graph of mentions"
   ]
  },
  {
   "cell_type": "code",
   "execution_count": null,
   "id": "22b7afd8",
   "metadata": {},
   "outputs": [],
   "source": [
    "import networkx as nx\n",
    "# TODO: Create a graph of user nodes linked by mentions (Tutorial code)\n",
    "\n",
    "def ...\n",
    "hashtagGraph = ...\n"
   ]
  },
  {
   "cell_type": "code",
   "execution_count": null,
   "id": "6b9ed3a5",
   "metadata": {},
   "outputs": [],
   "source": [
    "# Print the number of nodes attached to your username (Tutorial code)\n",
    "nx.degree(...)"
   ]
  },
  {
   "cell_type": "markdown",
   "id": "a79be7ac",
   "metadata": {},
   "source": [
    "## Part 7.1: Visualize graph of mentions"
   ]
  },
  {
   "cell_type": "code",
   "execution_count": null,
   "id": "272e2b41",
   "metadata": {},
   "outputs": [],
   "source": [
    "from plotly.offline import download_plotlyjs, init_notebook_mode, plot, iplot\n",
    "from plotly.graph_objs import *\n",
    "\n",
    "init_notebook_mode(connected=True)\n",
    "\n",
    "import random\n",
    "random.seed(0) # deterministic\n",
    "def addRandomPositions(graph):\n",
    "    posDict = dict((node,(random.gauss(0,10),random.gauss(0,10))) for node in graph.nodes())\n",
    "    nx.set_node_attributes(graph, posDict, \"pos\")\n",
    "    \n",
    "addRandomPositions(hashtagGraph)\n",
    "\n",
    "# TODO: Print your node's position using the 'pos' attributed added to the graph (Tutorial code)"
   ]
  },
  {
   "cell_type": "code",
   "execution_count": null,
   "id": "272b0f24",
   "metadata": {},
   "outputs": [],
   "source": [
    "def plotNetwork(graph):\n",
    "    scatters=[]\n",
    "\n",
    "    for (node1, node2) in graph.edges():\n",
    "        # NOTE: node1, and node2 are the usernames\n",
    "        # TODO: Change the color of the edge line if one of the nodes is yours\n",
    "        color = ...\n",
    "        x0, y0 = graph.nodes[node1]['pos']\n",
    "        x1, y1 = graph.nodes[node2]['pos']\n",
    "        edgeWidth = graph[node1][node2]['numberMentions']\n",
    "        s = Scatter(\n",
    "                x=[x0, x1],\n",
    "                y=[y0, y1],\n",
    "                hoverinfo='none',\n",
    "                mode='lines', \n",
    "                line=Line(width=1 ,color=color))\n",
    "        scatters.append(s)\n",
    "\n",
    "    for node in graph.nodes():\n",
    "        # TODO: Change the color of your node\n",
    "        color = ...\n",
    "        xPos, yPos = graph.nodes[node]['pos']\n",
    "        s = Scatter(\n",
    "                x=[xPos], \n",
    "                y=[yPos], \n",
    "                hoverinfo='name',\n",
    "                name=node,\n",
    "                mode='markers', \n",
    "                marker=dict(\n",
    "                    color=color, \n",
    "                    size=10,         \n",
    "                    line=dict(width=2)))\n",
    "        scatters.append(s)\n",
    "    \n",
    "    layout = Layout(showlegend=False)\n",
    "    fig = Figure(data=scatters, layout=layout)\n",
    "    iplot(fig, show_link=False )\n",
    "\n",
    "plotNetwork(hashtagGraph)"
   ]
  }
 ],
 "metadata": {
  "kernelspec": {
   "display_name": "Python 3 (ipykernel)",
   "language": "python",
   "name": "python3"
  },
  "language_info": {
   "codemirror_mode": {
    "name": "ipython",
    "version": 3
   },
   "file_extension": ".py",
   "mimetype": "text/x-python",
   "name": "python",
   "nbconvert_exporter": "python",
   "pygments_lexer": "ipython3",
   "version": "3.10.11"
  }
 },
 "nbformat": 4,
 "nbformat_minor": 5
}
